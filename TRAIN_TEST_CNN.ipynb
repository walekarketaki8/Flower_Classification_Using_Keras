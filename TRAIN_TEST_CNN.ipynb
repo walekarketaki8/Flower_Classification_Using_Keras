{
 "cells": [
  {
   "cell_type": "code",
   "execution_count": 6,
   "metadata": {},
   "outputs": [],
   "source": [
    "# Importing the Keras libraries and packages\n",
    "import keras\n",
    "from keras.models import Sequential\n",
    "from keras.layers import Convolution2D\n",
    "from keras.layers import MaxPooling2D\n",
    "from keras.layers import Flatten\n",
    "from keras.layers import Dense\n",
    "import numpy as np"
   ]
  },
  {
   "cell_type": "code",
   "execution_count": 2,
   "metadata": {},
   "outputs": [
    {
     "name": "stderr",
     "output_type": "stream",
     "text": [
      "/usr/local/lib/python2.7/dist-packages/ipykernel_launcher.py:5: UserWarning: Update your `Conv2D` call to the Keras 2 API: `Conv2D(32, (3, 3), activation=\"relu\", input_shape=(64, 64, 3...)`\n",
      "  \"\"\"\n",
      "/usr/local/lib/python2.7/dist-packages/ipykernel_launcher.py:11: UserWarning: Update your `Conv2D` call to the Keras 2 API: `Conv2D(32, (3, 3), activation=\"relu\")`\n",
      "  # This is added back by InteractiveShellApp.init_path()\n",
      "/usr/local/lib/python2.7/dist-packages/ipykernel_launcher.py:18: UserWarning: Update your `Dense` call to the Keras 2 API: `Dense(units=128, activation=\"relu\")`\n",
      "/usr/local/lib/python2.7/dist-packages/ipykernel_launcher.py:19: UserWarning: Update your `Dense` call to the Keras 2 API: `Dense(units=5, activation=\"softmax\")`\n"
     ]
    }
   ],
   "source": [
    "# Initialising the CNN\n",
    "classifier = Sequential()\n",
    "\n",
    "# Step 1 - Convolution\n",
    "classifier.add(Convolution2D(32, 3, 3, input_shape = (64, 64, 3), activation = 'relu'))\n",
    "\n",
    "# Step 2 - Pooling\n",
    "classifier.add(MaxPooling2D(pool_size = (2, 2)))\n",
    "\n",
    "# Adding a second convolutional layer\n",
    "classifier.add(Convolution2D(32, 3, 3, activation = 'relu'))\n",
    "classifier.add(MaxPooling2D(pool_size = (2, 2)))\n",
    "\n",
    "# Step 3 - Flattening\n",
    "classifier.add(Flatten())\n",
    "\n",
    "# Step 4 - Full connection\n",
    "classifier.add(Dense(output_dim = 128, activation = 'relu'))\n",
    "classifier.add(Dense(output_dim = 5, activation = 'softmax'))\n",
    "\n",
    "# Compiling the CNN\n",
    "classifier.compile(optimizer = 'adam', loss = 'categorical_crossentropy', metrics = ['accuracy'])"
   ]
  },
  {
   "cell_type": "code",
   "execution_count": 3,
   "metadata": {},
   "outputs": [
    {
     "name": "stdout",
     "output_type": "stream",
     "text": [
      "Found 2939 images belonging to 5 classes.\n",
      "Found 731 images belonging to 5 classes.\n"
     ]
    },
    {
     "name": "stderr",
     "output_type": "stream",
     "text": [
      "/usr/local/lib/python2.7/dist-packages/ipykernel_launcher.py:27: UserWarning: The semantics of the Keras 2 argument `steps_per_epoch` is not the same as the Keras 1 argument `samples_per_epoch`. `steps_per_epoch` is the number of batches to draw from the generator at each epoch. Basically steps_per_epoch = samples_per_epoch/batch_size. Similarly `nb_val_samples`->`validation_steps` and `val_samples`->`steps` arguments have changed. Update your method calls accordingly.\n",
      "/usr/local/lib/python2.7/dist-packages/ipykernel_launcher.py:27: UserWarning: Update your `fit_generator` call to the Keras 2 API: `fit_generator(<keras_pre..., validation_data=<keras_pre..., steps_per_epoch=250, epochs=30, validation_steps=800)`\n"
     ]
    },
    {
     "name": "stdout",
     "output_type": "stream",
     "text": [
      "Epoch 1/30\n",
      "250/250 [==============================] - 154s 614ms/step - loss: 1.1326 - acc: 0.5306 - val_loss: 1.0006 - val_acc: 0.6131\n",
      "Epoch 2/30\n",
      "250/250 [==============================] - 113s 452ms/step - loss: 0.8738 - acc: 0.6574 - val_loss: 0.8395 - val_acc: 0.6742\n",
      "Epoch 3/30\n",
      "250/250 [==============================] - 115s 461ms/step - loss: 0.7674 - acc: 0.6970 - val_loss: 0.7924 - val_acc: 0.7082\n",
      "Epoch 4/30\n",
      "250/250 [==============================] - 118s 471ms/step - loss: 0.6521 - acc: 0.7489 - val_loss: 0.8561 - val_acc: 0.6858\n",
      "Epoch 5/30\n",
      "250/250 [==============================] - 116s 463ms/step - loss: 0.5691 - acc: 0.7741 - val_loss: 0.8017 - val_acc: 0.7099\n",
      "Epoch 6/30\n",
      "250/250 [==============================] - 117s 470ms/step - loss: 0.4953 - acc: 0.8107 - val_loss: 0.8970 - val_acc: 0.7075\n",
      "Epoch 7/30\n",
      "250/250 [==============================] - 119s 476ms/step - loss: 0.4114 - acc: 0.8460 - val_loss: 0.8224 - val_acc: 0.7176\n",
      "Epoch 8/30\n",
      "250/250 [==============================] - 111s 445ms/step - loss: 0.3384 - acc: 0.8759 - val_loss: 0.9020 - val_acc: 0.7211\n",
      "Epoch 9/30\n",
      "250/250 [==============================] - 109s 434ms/step - loss: 0.3009 - acc: 0.8913 - val_loss: 0.9289 - val_acc: 0.7263\n",
      "Epoch 10/30\n",
      "250/250 [==============================] - 113s 451ms/step - loss: 0.2413 - acc: 0.9129 - val_loss: 0.8989 - val_acc: 0.7373\n",
      "Epoch 11/30\n",
      "250/250 [==============================] - 116s 463ms/step - loss: 0.2156 - acc: 0.9217 - val_loss: 1.1293 - val_acc: 0.7044\n",
      "Epoch 12/30\n",
      "250/250 [==============================] - 111s 442ms/step - loss: 0.1662 - acc: 0.9453 - val_loss: 1.1924 - val_acc: 0.7209\n",
      "Epoch 13/30\n",
      "250/250 [==============================] - 110s 440ms/step - loss: 0.1521 - acc: 0.9486 - val_loss: 1.2509 - val_acc: 0.7115\n",
      "Epoch 14/30\n",
      "250/250 [==============================] - 110s 440ms/step - loss: 0.1220 - acc: 0.9591 - val_loss: 1.3727 - val_acc: 0.7197\n",
      "Epoch 15/30\n",
      "250/250 [==============================] - 112s 448ms/step - loss: 0.1089 - acc: 0.9632 - val_loss: 1.2229 - val_acc: 0.7169\n",
      "Epoch 16/30\n",
      "250/250 [==============================] - 110s 439ms/step - loss: 0.1108 - acc: 0.9656 - val_loss: 1.2904 - val_acc: 0.7224\n",
      "Epoch 17/30\n",
      "250/250 [==============================] - 114s 456ms/step - loss: 0.0671 - acc: 0.9799 - val_loss: 1.5584 - val_acc: 0.6987\n",
      "Epoch 18/30\n",
      "250/250 [==============================] - 114s 457ms/step - loss: 0.0744 - acc: 0.9735 - val_loss: 1.4416 - val_acc: 0.7294\n",
      "Epoch 19/30\n",
      "250/250 [==============================] - 112s 447ms/step - loss: 0.0882 - acc: 0.9701 - val_loss: 1.4180 - val_acc: 0.7089\n",
      "Epoch 20/30\n",
      "250/250 [==============================] - 130s 521ms/step - loss: 0.0614 - acc: 0.9799 - val_loss: 1.4523 - val_acc: 0.7210\n",
      "Epoch 21/30\n",
      "250/250 [==============================] - 125s 499ms/step - loss: 0.0691 - acc: 0.9774 - val_loss: 1.5362 - val_acc: 0.7078\n",
      "Epoch 22/30\n",
      "250/250 [==============================] - 110s 441ms/step - loss: 0.0528 - acc: 0.9853 - val_loss: 1.5715 - val_acc: 0.7242\n",
      "Epoch 23/30\n",
      "250/250 [==============================] - 112s 448ms/step - loss: 0.0533 - acc: 0.9831 - val_loss: 1.5398 - val_acc: 0.7317\n",
      "Epoch 24/30\n",
      "250/250 [==============================] - 113s 451ms/step - loss: 0.0584 - acc: 0.9823 - val_loss: 1.6598 - val_acc: 0.7236\n",
      "Epoch 25/30\n",
      "250/250 [==============================] - 116s 465ms/step - loss: 0.0446 - acc: 0.9857 - val_loss: 1.6426 - val_acc: 0.7336\n",
      "Epoch 26/30\n",
      "250/250 [==============================] - 113s 453ms/step - loss: 0.0527 - acc: 0.9809 - val_loss: 1.6026 - val_acc: 0.7349\n",
      "Epoch 27/30\n",
      "250/250 [==============================] - 112s 449ms/step - loss: 0.0398 - acc: 0.9877 - val_loss: 1.6317 - val_acc: 0.7371\n",
      "Epoch 28/30\n",
      "250/250 [==============================] - 112s 449ms/step - loss: 0.0595 - acc: 0.9807 - val_loss: 1.6965 - val_acc: 0.7295\n",
      "Epoch 29/30\n",
      "250/250 [==============================] - 113s 453ms/step - loss: 0.0452 - acc: 0.9863 - val_loss: 1.7323 - val_acc: 0.7151\n",
      "Epoch 30/30\n",
      "250/250 [==============================] - 113s 451ms/step - loss: 0.0516 - acc: 0.9836 - val_loss: 1.8539 - val_acc: 0.7064\n"
     ]
    },
    {
     "data": {
      "text/plain": [
       "<keras.callbacks.History at 0x7f2de7986c50>"
      ]
     },
     "execution_count": 3,
     "metadata": {},
     "output_type": "execute_result"
    }
   ],
   "source": [
    "# Part 2 - Fitting the CNN to the images\n",
    "\n",
    "from keras.preprocessing.image import ImageDataGenerator\n",
    "\n",
    "train_datagen = ImageDataGenerator(rescale = 1./255,\n",
    "                                   shear_range = 0.2,\n",
    "                                   zoom_range = 0.2,\n",
    "                                   horizontal_flip = True)\n",
    "\n",
    "test_datagen = ImageDataGenerator(rescale = 1./255)\n",
    "\n",
    "training_set = train_datagen.flow_from_directory('train',\n",
    "                                                 target_size = (64, 64),\n",
    "                                                 batch_size = 32,\n",
    "                                                 class_mode = 'categorical')\n",
    "label_map = (training_set.class_indices)\n",
    "\n",
    "test_set = test_datagen.flow_from_directory('test',\n",
    "                                            target_size = (64, 64),\n",
    "                                            batch_size = 32,\n",
    "                                            class_mode = 'categorical')\n",
    "\n",
    "classifier.fit_generator(training_set,\n",
    "                         samples_per_epoch = 8000,\n",
    "                         nb_epoch = 30,\n",
    "                         validation_data = test_set,\n",
    "                         nb_val_samples = 800)"
   ]
  },
  {
   "cell_type": "code",
   "execution_count": 4,
   "metadata": {},
   "outputs": [
    {
     "name": "stdout",
     "output_type": "stream",
     "text": [
      "23/23 [==============================] - 2s 85ms/step\n"
     ]
    }
   ],
   "source": [
    "# Predicions on test set\n",
    "test_set.reset()\n",
    "pred = classifier.predict_generator(test_set, verbose=1)"
   ]
  },
  {
   "cell_type": "code",
   "execution_count": 7,
   "metadata": {},
   "outputs": [],
   "source": [
    "predicted_class_indices=np.argmax(pred,axis=1)"
   ]
  },
  {
   "cell_type": "code",
   "execution_count": 8,
   "metadata": {},
   "outputs": [
    {
     "name": "stdout",
     "output_type": "stream",
     "text": [
      "{0: 'daisy', 1: 'dandelion', 2: 'roses', 3: 'sunflowers', 4: 'tulips'}\n"
     ]
    }
   ],
   "source": [
    "labels= training_set.class_indices\n",
    "labels = dict((k,v) for v,k in labels.items())\n",
    "print(labels)"
   ]
  },
  {
   "cell_type": "code",
   "execution_count": 9,
   "metadata": {},
   "outputs": [],
   "source": [
    "predictions = [labels[k] for k in predicted_class_indices]"
   ]
  },
  {
   "cell_type": "code",
   "execution_count": 10,
   "metadata": {},
   "outputs": [],
   "source": [
    "import pandas as pd\n",
    "name = test_set.filenames\n",
    "to_save = pd.DataFrame({'filenames': name, 'pred':predictions})\n",
    "to_save.to_csv('pred.csv', index = False)"
   ]
  },
  {
   "cell_type": "code",
   "execution_count": null,
   "metadata": {},
   "outputs": [],
   "source": []
  }
 ],
 "metadata": {
  "kernelspec": {
   "display_name": "Python 2",
   "language": "python",
   "name": "python2"
  },
  "language_info": {
   "codemirror_mode": {
    "name": "ipython",
    "version": 2
   },
   "file_extension": ".py",
   "mimetype": "text/x-python",
   "name": "python",
   "nbconvert_exporter": "python",
   "pygments_lexer": "ipython2",
   "version": "2.7.6"
  }
 },
 "nbformat": 4,
 "nbformat_minor": 2
}
