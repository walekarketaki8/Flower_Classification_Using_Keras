{
 "cells": [
  {
   "cell_type": "code",
   "execution_count": 1,
   "metadata": {},
   "outputs": [],
   "source": [
    "import os\n",
    "import sys\n",
    "import shutil\n",
    "import random"
   ]
  },
  {
   "cell_type": "code",
   "execution_count": 2,
   "metadata": {},
   "outputs": [],
   "source": [
    "# * Format in which Dataset to be arranged to classify images using Keras.\n",
    "# (No need of data augmentation, keras will do that at run time.)\n",
    "# --> train\n",
    "#     --> class1\n",
    "#         --> img1.jpg\n",
    "#         :\n",
    "#     --> class2\n",
    "#         --> img1.jpg\n",
    "#         :\n",
    "# --> test\n",
    "#     --> class1\n",
    "#         --> img1.jpg\n",
    "#         :\n",
    "#     --> class2\n",
    "#         --> img1.jpg\n",
    "#         :\n",
    "\n",
    "# * If we have single folder with folders of respective classes then below code will help to \n",
    "#   arrange data in format above format."
   ]
  },
  {
   "cell_type": "code",
   "execution_count": 3,
   "metadata": {},
   "outputs": [],
   "source": [
    "PATH = 'flower_photos' # Is the main folder where all the class folders present \n",
    "TRAIN = 'dataset/train'\n",
    "TEST = 'dataset/test'\n",
    "C_PATH = os.getcwd()"
   ]
  },
  {
   "cell_type": "code",
   "execution_count": 4,
   "metadata": {},
   "outputs": [
    {
     "name": "stdout",
     "output_type": "stream",
     "text": [
      "640\n",
      "507\n",
      "719\n",
      "513\n",
      "560\n"
     ]
    }
   ],
   "source": [
    "# Creating train test for all the classes\n",
    "\n",
    "sub_dirs = [x[0] for x in os.walk(PATH)]\n",
    "for sub_dir in sub_dirs:\n",
    "    dir_name = os.path.basename(sub_dir)\n",
    "    if PATH == dir_name:\n",
    "        continue\n",
    "    else:\n",
    "        os.makedirs(os.path.join(C_PATH,TRAIN,str(dir_name)))\n",
    "        os.makedirs(os.path.join(C_PATH,TEST,str(dir_name)))\n",
    "        print(len(os.listdir(os.path.join(PATH,dir_name))))"
   ]
  },
  {
   "cell_type": "code",
   "execution_count": 5,
   "metadata": {},
   "outputs": [
    {
     "name": "stdout",
     "output_type": "stream",
     "text": [
      "('dir dir_name', 'tulips')\n",
      "('dir dir_name', 'daisy')\n",
      "('dir dir_name', 'dandelion')\n",
      "('dir dir_name', 'roses')\n",
      "('dir dir_name', 'sunflowers')\n"
     ]
    }
   ],
   "source": [
    "# Selecting training-random images from main folder - shutil.move(src,desti)\n",
    "\n",
    "sub_dirs = [x[0] for x in os.walk(PATH)]\n",
    "counter = 0\n",
    "for sub_dir in sub_dirs:\n",
    "    dir_name = os.path.basename(sub_dir)\n",
    "    # print(\"dir dir_name\", dir_name)\n",
    "    if PATH == dir_name:\n",
    "        continue\n",
    "    else:\n",
    "        print(\"dir dir_name\", dir_name)\n",
    "        # Randomly selecting 20 % data for testing\n",
    "        for to_copy in random.sample(os.listdir(os.path.join(PATH,dir_name)),int(len(os.listdir(os.path.join(PATH,dir_name)))*.20)):\n",
    "            img_name = to_copy\n",
    "            shutil.move(os.path.join(PATH,dir_name,img_name), os.path.join(TEST,dir_name))\n",
    "        # Selecting remaining data for training\n",
    "        for to_copy in (os.listdir(os.path.join(PATH,dir_name))):\n",
    "            shutil.copy(os.path.join(PATH,dir_name,to_copy), os.path.join(TRAIN,dir_name))"
   ]
  },
  {
   "cell_type": "code",
   "execution_count": null,
   "metadata": {},
   "outputs": [],
   "source": []
  },
  {
   "cell_type": "code",
   "execution_count": null,
   "metadata": {},
   "outputs": [],
   "source": []
  },
  {
   "cell_type": "code",
   "execution_count": null,
   "metadata": {},
   "outputs": [],
   "source": []
  },
  {
   "cell_type": "code",
   "execution_count": null,
   "metadata": {},
   "outputs": [],
   "source": []
  },
  {
   "cell_type": "code",
   "execution_count": null,
   "metadata": {},
   "outputs": [],
   "source": []
  },
  {
   "cell_type": "code",
   "execution_count": null,
   "metadata": {},
   "outputs": [],
   "source": []
  },
  {
   "cell_type": "code",
   "execution_count": null,
   "metadata": {},
   "outputs": [],
   "source": []
  }
 ],
 "metadata": {
  "kernelspec": {
   "display_name": "Python 2",
   "language": "python",
   "name": "python2"
  },
  "language_info": {
   "codemirror_mode": {
    "name": "ipython",
    "version": 2
   },
   "file_extension": ".py",
   "mimetype": "text/x-python",
   "name": "python",
   "nbconvert_exporter": "python",
   "pygments_lexer": "ipython2",
   "version": "2.7.6"
  }
 },
 "nbformat": 4,
 "nbformat_minor": 2
}
